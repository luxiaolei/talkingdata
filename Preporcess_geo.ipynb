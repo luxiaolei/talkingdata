{
 "cells": [
  {
   "cell_type": "code",
   "execution_count": 1,
   "metadata": {
    "collapsed": true
   },
   "outputs": [],
   "source": [
    "import datetime\n",
    "import pandas as pd\n",
    "import numpy as np\n",
    "from sklearn.cross_validation import train_test_split\n",
    "import random\n",
    "import zipfile\n",
    "import time\n",
    "import shutil\n",
    "import os\n",
    "import re\n",
    "from sklearn.metrics import log_loss\n",
    "from IPython.display import display\n",
    "from sklearn.cluster import DBSCAN\n",
    "%matplolib inline\n",
    "\n",
    "\n",
    "fdics = dict()\n",
    "for dirpath, dirnames, filenames in os.walk('csvs/'):\n",
    "    for f in filenames:\n",
    "        try:\n",
    "            fdics[f] = pd.read_csv(os.path.join(dirpath, f), dtype={'device_id': np.str,\n",
    "                                              'app_id': np.str,\n",
    "                                              'event_id': np.str,\n",
    "                                              'label_id': np.str})\n",
    "        except:\n",
    "            print(f)\n",
    "            fdics[f] = pd.read_csv(os.path.join(dirpath, f))"
   ]
  },
  {
   "cell_type": "code",
   "execution_count": 4,
   "metadata": {
    "collapsed": true
   },
   "outputs": [],
   "source": [
    "\n",
    "device_events = pd.read_csv('../csvs/events.csv', dtype={'device_id': np.str,\n",
    "                                              'app_id': np.str,\n",
    "                                              'event_id': np.str,\n",
    "                                              'label_id': np.str})"
   ]
  },
  {
   "cell_type": "code",
   "execution_count": 5,
   "metadata": {
    "collapsed": true
   },
   "outputs": [],
   "source": [
    "from sklearn.cluster import DBSCAN"
   ]
  },
  {
   "cell_type": "code",
   "execution_count": 6,
   "metadata": {
    "collapsed": true
   },
   "outputs": [],
   "source": [
    "coords = device_events.as_matrix(columns=['longitude', 'latitude'])\n",
    "radians = np.radians(coords)\n",
    "\n",
    "kms_per_radian = 6371.0088\n",
    "epsilon = 1.5 / kms_per_radian\n",
    "db = DBSCAN(eps=epsilon, min_samples=1, algorithm='ball_tree', metric='haversine').fit(radians)\n",
    "cluster_labels = db.labels_\n",
    "num_clusters = len(set(cluster_labels))\n",
    "clusters = pd.Series([coords[cluster_labels == n] for n in range(num_clusters)])\n",
    "print('Number of clusters: {}'.format(num_clusters))\n",
    "\n",
    "import pickle\n",
    "output = open('model_bucket/geo_clusters_series.pkl', 'wb')\n",
    "pickle.dump(clusters, output)\n",
    "output.close()"
   ]
  },
  {
   "cell_type": "code",
   "execution_count": 7,
   "metadata": {
    "collapsed": true
   },
   "outputs": [],
   "source": [
    "radians = np.radians(coords)"
   ]
  },
  {
   "cell_type": "code",
   "execution_count": null,
   "metadata": {
    "collapsed": false
   },
   "outputs": [
    {
     "data": {
      "text/plain": [
       "array([ 2.11848065,  0.54524086])"
      ]
     },
     "execution_count": 8,
     "metadata": {},
     "output_type": "execute_result"
    }
   ],
   "source": [
    "radians[0]"
   ]
  },
  {
   "cell_type": "code",
   "execution_count": null,
   "metadata": {
    "collapsed": false
   },
   "outputs": [],
   "source": [
    "kms_per_radian = 6371.0088\n",
    "epsilon = 1.5 / kms_per_radian\n",
    "db = DBSCAN(eps=epsilon, min_samples=1, algorithm='ball_tree', metric='haversine').fit(radians)\n",
    "cluster_labels = db.labels_\n",
    "num_clusters = len(set(cluster_labels))\n",
    "clusters = pd.Series([coords[cluster_labels == n] for n in range(num_clusters)])\n",
    "print('Number of clusters: {}'.format(num_clusters))\n",
    "\n",
    "import pickle\n",
    "output = open('model_bucket/geo_clusters_series.pkl', 'wb')\n",
    "pickle.dump(clusters, output)\n",
    "output.close()"
   ]
  },
  {
   "cell_type": "code",
   "execution_count": null,
   "metadata": {
    "collapsed": true
   },
   "outputs": [],
   "source": []
  }
 ],
 "metadata": {
  "kernelspec": {
   "display_name": "Python [Root]",
   "language": "python",
   "name": "Python [Root]"
  },
  "language_info": {
   "codemirror_mode": {
    "name": "ipython",
    "version": 2
   },
   "file_extension": ".py",
   "mimetype": "text/x-python",
   "name": "python",
   "nbconvert_exporter": "python",
   "pygments_lexer": "ipython2",
   "version": "2.7.12"
  }
 },
 "nbformat": 4,
 "nbformat_minor": 0
}
